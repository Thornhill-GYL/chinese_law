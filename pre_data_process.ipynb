{
 "cells": [
  {
   "cell_type": "code",
   "execution_count": 1,
   "metadata": {},
   "outputs": [],
   "source": [
    "import pandas as pd \n",
    "import numpy as np\n",
    "import json\n",
    "import copy"
   ]
  },
  {
   "cell_type": "code",
   "execution_count": 2,
   "metadata": {},
   "outputs": [],
   "source": [
    "with open('sfzy_small.json', encoding=\"utf8\") as f:\n",
    "    data = f.readlines()\n",
    "    data = [json.loads(line) for line in data]"
   ]
  },
  {
   "cell_type": "code",
   "execution_count": 3,
   "metadata": {},
   "outputs": [
    {
     "name": "stdout",
     "output_type": "stream",
     "text": [
      "<class 'list'>\n"
     ]
    }
   ],
   "source": [
    "print(type(data)) "
   ]
  },
  {
   "cell_type": "code",
   "execution_count": 4,
   "metadata": {},
   "outputs": [
    {
     "data": {
      "text/plain": [
       "4047"
      ]
     },
     "execution_count": 4,
     "metadata": {},
     "output_type": "execute_result"
    }
   ],
   "source": [
    "len(data)"
   ]
  },
  {
   "cell_type": "code",
   "execution_count": 5,
   "metadata": {},
   "outputs": [],
   "source": [
    "df = pd.DataFrame(data)"
   ]
  },
  {
   "cell_type": "code",
   "execution_count": 6,
   "metadata": {},
   "outputs": [
    {
     "data": {
      "text/html": [
       "<div>\n",
       "<style scoped>\n",
       "    .dataframe tbody tr th:only-of-type {\n",
       "        vertical-align: middle;\n",
       "    }\n",
       "\n",
       "    .dataframe tbody tr th {\n",
       "        vertical-align: top;\n",
       "    }\n",
       "\n",
       "    .dataframe thead th {\n",
       "        text-align: right;\n",
       "    }\n",
       "</style>\n",
       "<table border=\"1\" class=\"dataframe\">\n",
       "  <thead>\n",
       "    <tr style=\"text-align: right;\">\n",
       "      <th></th>\n",
       "      <th>id</th>\n",
       "      <th>summary</th>\n",
       "      <th>text</th>\n",
       "    </tr>\n",
       "  </thead>\n",
       "  <tbody>\n",
       "    <tr>\n",
       "      <th>0</th>\n",
       "      <td>1f3ce8e247e402fb816ff030c66d8dde</td>\n",
       "      <td>原被告系继承纠纷关系。原告诉请：请求继承父、母遗产房屋两间、存款及利息，分割父亲的丧葬费、丧...</td>\n",
       "      <td>[{'sentence': '徐绍勤、徐艳华等与徐少清继承纠纷一审民事判决书', 'labe...</td>\n",
       "    </tr>\n",
       "    <tr>\n",
       "      <th>1</th>\n",
       "      <td>6f740bbaf5839b7a0ced6f9fc56012f3</td>\n",
       "      <td>原被告系借款合同关系。原告提出诉求：被告偿还借款本金及利息；保证人承担连带偿还责任。被告辩称...</td>\n",
       "      <td>[{'sentence': '中国邮政储蓄银行股份有限公司祁县支行与武效平、赵静等借款合同纠...</td>\n",
       "    </tr>\n",
       "    <tr>\n",
       "      <th>2</th>\n",
       "      <td>6ca8fc47698ce689b296a254a8a20fe3</td>\n",
       "      <td>本案为继承纠纷。原告诉请法院依法确认《遗嘱》为无效遗嘱。本案争议焦点为遗嘱的效力问题。从形式...</td>\n",
       "      <td>[{'sentence': '刘某1、刘某2等与刘某5、刘某6继承纠纷一审民事判决书', '...</td>\n",
       "    </tr>\n",
       "    <tr>\n",
       "      <th>3</th>\n",
       "      <td>cfb49a04d7814e7c63cda46b93aa7332</td>\n",
       "      <td>本案是借款合同纠纷。原告诉求：被告立即归还借款本金及利息。法院查明，原、被告签订的借款合同和...</td>\n",
       "      <td>[{'sentence': '河北宁晋农村商业银行股份有限公司小刘村支行与杨保会、杨立田等借...</td>\n",
       "    </tr>\n",
       "    <tr>\n",
       "      <th>4</th>\n",
       "      <td>733caf819e8a7a35181ad099c55abf1c</td>\n",
       "      <td>原被告系租赁合同关系。原告提出诉求要求判令被告退还原告押金一万元。经审理租赁合同系双方真实意...</td>\n",
       "      <td>[{'sentence': '胡术霞与北京古城特别特商贸有限公司、张秀生租赁合同纠纷一审民事...</td>\n",
       "    </tr>\n",
       "  </tbody>\n",
       "</table>\n",
       "</div>"
      ],
      "text/plain": [
       "                                 id  \\\n",
       "0  1f3ce8e247e402fb816ff030c66d8dde   \n",
       "1  6f740bbaf5839b7a0ced6f9fc56012f3   \n",
       "2  6ca8fc47698ce689b296a254a8a20fe3   \n",
       "3  cfb49a04d7814e7c63cda46b93aa7332   \n",
       "4  733caf819e8a7a35181ad099c55abf1c   \n",
       "\n",
       "                                             summary  \\\n",
       "0  原被告系继承纠纷关系。原告诉请：请求继承父、母遗产房屋两间、存款及利息，分割父亲的丧葬费、丧...   \n",
       "1  原被告系借款合同关系。原告提出诉求：被告偿还借款本金及利息；保证人承担连带偿还责任。被告辩称...   \n",
       "2  本案为继承纠纷。原告诉请法院依法确认《遗嘱》为无效遗嘱。本案争议焦点为遗嘱的效力问题。从形式...   \n",
       "3  本案是借款合同纠纷。原告诉求：被告立即归还借款本金及利息。法院查明，原、被告签订的借款合同和...   \n",
       "4  原被告系租赁合同关系。原告提出诉求要求判令被告退还原告押金一万元。经审理租赁合同系双方真实意...   \n",
       "\n",
       "                                                text  \n",
       "0  [{'sentence': '徐绍勤、徐艳华等与徐少清继承纠纷一审民事判决书', 'labe...  \n",
       "1  [{'sentence': '中国邮政储蓄银行股份有限公司祁县支行与武效平、赵静等借款合同纠...  \n",
       "2  [{'sentence': '刘某1、刘某2等与刘某5、刘某6继承纠纷一审民事判决书', '...  \n",
       "3  [{'sentence': '河北宁晋农村商业银行股份有限公司小刘村支行与杨保会、杨立田等借...  \n",
       "4  [{'sentence': '胡术霞与北京古城特别特商贸有限公司、张秀生租赁合同纠纷一审民事...  "
      ]
     },
     "execution_count": 6,
     "metadata": {},
     "output_type": "execute_result"
    }
   ],
   "source": [
    "df.head()"
   ]
  },
  {
   "cell_type": "markdown",
   "metadata": {},
   "source": [
    "## 处理sentence和label数据部分"
   ]
  },
  {
   "cell_type": "code",
   "execution_count": 7,
   "metadata": {},
   "outputs": [
    {
     "data": {
      "text/plain": [
       "59"
      ]
     },
     "execution_count": 7,
     "metadata": {},
     "output_type": "execute_result"
    }
   ],
   "source": [
    "len(df['text'][0])"
   ]
  },
  {
   "cell_type": "code",
   "execution_count": 8,
   "metadata": {},
   "outputs": [
    {
     "data": {
      "text/plain": [
       "53"
      ]
     },
     "execution_count": 8,
     "metadata": {},
     "output_type": "execute_result"
    }
   ],
   "source": [
    "len(df['text'][1])"
   ]
  },
  {
   "cell_type": "code",
   "execution_count": 9,
   "metadata": {},
   "outputs": [],
   "source": [
    "data_text=df['text'][0].copy()"
   ]
  },
  {
   "cell_type": "code",
   "execution_count": 10,
   "metadata": {},
   "outputs": [
    {
     "data": {
      "text/plain": [
       "59"
      ]
     },
     "execution_count": 10,
     "metadata": {},
     "output_type": "execute_result"
    }
   ],
   "source": [
    "len(data_text)"
   ]
  },
  {
   "cell_type": "code",
   "execution_count": 11,
   "metadata": {},
   "outputs": [],
   "source": [
    "for lines in df['text'][1:]:\n",
    "    data_text.extend(lines)"
   ]
  },
  {
   "cell_type": "code",
   "execution_count": 12,
   "metadata": {},
   "outputs": [
    {
     "data": {
      "text/plain": [
       "239690"
      ]
     },
     "execution_count": 12,
     "metadata": {},
     "output_type": "execute_result"
    }
   ],
   "source": [
    "len(data_text)"
   ]
  },
  {
   "cell_type": "code",
   "execution_count": 13,
   "metadata": {},
   "outputs": [],
   "source": [
    "df_text = pd.DataFrame(data_text)"
   ]
  },
  {
   "cell_type": "code",
   "execution_count": 29,
   "metadata": {},
   "outputs": [],
   "source": [
    "df_text.to_csv('onlytext.txt',sep='\\t')"
   ]
  },
  {
   "cell_type": "markdown",
   "metadata": {},
   "source": [
    "## 所有信息都有部分"
   ]
  },
  {
   "cell_type": "code",
   "execution_count": 14,
   "metadata": {},
   "outputs": [
    {
     "data": {
      "text/plain": [
       "59"
      ]
     },
     "execution_count": 14,
     "metadata": {},
     "output_type": "execute_result"
    }
   ],
   "source": [
    "len(df['text'][0])"
   ]
  },
  {
   "cell_type": "code",
   "execution_count": 15,
   "metadata": {},
   "outputs": [],
   "source": [
    "for id,lines in enumerate(df['text']):\n",
    "    for row in lines:\n",
    "        row['summary'] = df['summary'][id]"
   ]
  },
  {
   "cell_type": "code",
   "execution_count": 23,
   "metadata": {},
   "outputs": [],
   "source": [
    "summary_text_list = df['text'][0].copy()"
   ]
  },
  {
   "cell_type": "code",
   "execution_count": 24,
   "metadata": {},
   "outputs": [
    {
     "data": {
      "text/plain": [
       "59"
      ]
     },
     "execution_count": 24,
     "metadata": {},
     "output_type": "execute_result"
    }
   ],
   "source": [
    "len(summary_text_list)"
   ]
  },
  {
   "cell_type": "code",
   "execution_count": 25,
   "metadata": {},
   "outputs": [],
   "source": [
    "for lines in df['text'][1:]:\n",
    "    summary_text_list.extend(lines)"
   ]
  },
  {
   "cell_type": "code",
   "execution_count": 26,
   "metadata": {},
   "outputs": [],
   "source": [
    "df_summary_text = pd.DataFrame(summary_text_list)"
   ]
  },
  {
   "cell_type": "code",
   "execution_count": 27,
   "metadata": {},
   "outputs": [
    {
     "data": {
      "text/html": [
       "<div>\n",
       "<style scoped>\n",
       "    .dataframe tbody tr th:only-of-type {\n",
       "        vertical-align: middle;\n",
       "    }\n",
       "\n",
       "    .dataframe tbody tr th {\n",
       "        vertical-align: top;\n",
       "    }\n",
       "\n",
       "    .dataframe thead th {\n",
       "        text-align: right;\n",
       "    }\n",
       "</style>\n",
       "<table border=\"1\" class=\"dataframe\">\n",
       "  <thead>\n",
       "    <tr style=\"text-align: right;\">\n",
       "      <th></th>\n",
       "      <th>label</th>\n",
       "      <th>sentence</th>\n",
       "      <th>summary</th>\n",
       "    </tr>\n",
       "  </thead>\n",
       "  <tbody>\n",
       "    <tr>\n",
       "      <th>0</th>\n",
       "      <td>0</td>\n",
       "      <td>徐绍勤、徐艳华等与徐少清继承纠纷一审民事判决书</td>\n",
       "      <td>原被告系继承纠纷关系。原告诉请：请求继承父、母遗产房屋两间、存款及利息，分割父亲的丧葬费、丧...</td>\n",
       "    </tr>\n",
       "    <tr>\n",
       "      <th>1</th>\n",
       "      <td>0</td>\n",
       "      <td>辽宁省北镇市人民法院</td>\n",
       "      <td>原被告系继承纠纷关系。原告诉请：请求继承父、母遗产房屋两间、存款及利息，分割父亲的丧葬费、丧...</td>\n",
       "    </tr>\n",
       "    <tr>\n",
       "      <th>2</th>\n",
       "      <td>0</td>\n",
       "      <td>民 事 判 决 书</td>\n",
       "      <td>原被告系继承纠纷关系。原告诉请：请求继承父、母遗产房屋两间、存款及利息，分割父亲的丧葬费、丧...</td>\n",
       "    </tr>\n",
       "    <tr>\n",
       "      <th>3</th>\n",
       "      <td>0</td>\n",
       "      <td>（2017）辽0782民初2218号</td>\n",
       "      <td>原被告系继承纠纷关系。原告诉请：请求继承父、母遗产房屋两间、存款及利息，分割父亲的丧葬费、丧...</td>\n",
       "    </tr>\n",
       "    <tr>\n",
       "      <th>4</th>\n",
       "      <td>0</td>\n",
       "      <td>原告：徐绍勤，男，1951年7月12日生，满族，农民，住辽宁省北镇市。</td>\n",
       "      <td>原被告系继承纠纷关系。原告诉请：请求继承父、母遗产房屋两间、存款及利息，分割父亲的丧葬费、丧...</td>\n",
       "    </tr>\n",
       "  </tbody>\n",
       "</table>\n",
       "</div>"
      ],
      "text/plain": [
       "   label                             sentence  \\\n",
       "0      0              徐绍勤、徐艳华等与徐少清继承纠纷一审民事判决书   \n",
       "1      0                           辽宁省北镇市人民法院   \n",
       "2      0                            民 事 判 决 书   \n",
       "3      0                   （2017）辽0782民初2218号   \n",
       "4      0  原告：徐绍勤，男，1951年7月12日生，满族，农民，住辽宁省北镇市。   \n",
       "\n",
       "                                             summary  \n",
       "0  原被告系继承纠纷关系。原告诉请：请求继承父、母遗产房屋两间、存款及利息，分割父亲的丧葬费、丧...  \n",
       "1  原被告系继承纠纷关系。原告诉请：请求继承父、母遗产房屋两间、存款及利息，分割父亲的丧葬费、丧...  \n",
       "2  原被告系继承纠纷关系。原告诉请：请求继承父、母遗产房屋两间、存款及利息，分割父亲的丧葬费、丧...  \n",
       "3  原被告系继承纠纷关系。原告诉请：请求继承父、母遗产房屋两间、存款及利息，分割父亲的丧葬费、丧...  \n",
       "4  原被告系继承纠纷关系。原告诉请：请求继承父、母遗产房屋两间、存款及利息，分割父亲的丧葬费、丧...  "
      ]
     },
     "execution_count": 27,
     "metadata": {},
     "output_type": "execute_result"
    }
   ],
   "source": [
    "df_summary_text.head()"
   ]
  },
  {
   "cell_type": "code",
   "execution_count": 28,
   "metadata": {},
   "outputs": [
    {
     "data": {
      "text/plain": [
       "239690"
      ]
     },
     "execution_count": 28,
     "metadata": {},
     "output_type": "execute_result"
    }
   ],
   "source": [
    "len(df_summary_text)"
   ]
  },
  {
   "cell_type": "code",
   "execution_count": 30,
   "metadata": {},
   "outputs": [],
   "source": [
    "df_summary_text.to_csv('sumaryandtext.txt',sep='\\t')"
   ]
  }
 ],
 "metadata": {
  "kernelspec": {
   "display_name": "Python 3",
   "language": "python",
   "name": "python3"
  },
  "language_info": {
   "codemirror_mode": {
    "name": "ipython",
    "version": 3
   },
   "file_extension": ".py",
   "mimetype": "text/x-python",
   "name": "python",
   "nbconvert_exporter": "python",
   "pygments_lexer": "ipython3",
   "version": "3.7.3"
  }
 },
 "nbformat": 4,
 "nbformat_minor": 2
}
